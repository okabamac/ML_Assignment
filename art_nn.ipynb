{
 "cells": [
  {
   "cell_type": "code",
   "execution_count": 18,
   "metadata": {},
   "outputs": [],
   "source": [
    "import numpy as np \n",
    "import pandas as pd\n",
    "from numpy import exp, array, random, dot, log\n",
    "from itertools import combinations_with_replacement"
   ]
  },
  {
   "cell_type": "code",
   "execution_count": 19,
   "metadata": {},
   "outputs": [],
   "source": [
    "\n",
    "# A Python program to print all combinations \n",
    "# with an element-to-itself combination is  \n",
    "# also included \n",
    "\n",
    "X = []\n",
    "# Get all combinations of [0, 1, 2, 3, 4, 5, 6, 7, 8, 9] and length 2 \n",
    "comb = combinations_with_replacement([0, 1, 2, 3, 4, 5, 6, 7, 8, 9], 2) \n",
    "  \n",
    "# Print the obtained combinations \n",
    "for i in list(comb):\n",
    "    datum = list(i)\n",
    "    X.append(datum)\n",
    "\n",
    "X = log(array(X))\n",
    "df = pd.DataFrame({'x': X[:, 0], 'y': X[:, 1], 'label': X[:, 0]+X[:, 1]})\n",
    "df = df[np.isfinite(df['label'])]"
   ]
  },
  {
   "cell_type": "code",
   "execution_count": 20,
   "metadata": {},
   "outputs": [],
   "source": [
    "data = df.values[:, 0:2]\n",
    "labels = df.values[:, 2].reshape(-1, 1)"
   ]
  },
  {
   "cell_type": "code",
   "execution_count": 25,
   "metadata": {},
   "outputs": [
    {
     "output_type": "execute_result",
     "data": {
      "text/plain": "0.9963268247936982"
     },
     "metadata": {},
     "execution_count": 25
    }
   ],
   "source": [
    "from sklearn.neural_network import MLPRegressor\n",
    "from sklearn.datasets import make_regression\n",
    "from sklearn.model_selection import train_test_split\n",
    "X_train, X_test, y_train, y_test = train_test_split(data, labels,\n",
    "                                                    random_state=1)\n",
    "regr = MLPRegressor(random_state=1, max_iter=500).fit(X_train, y_train)\n",
    "regr.predict(X_test[:2])\n",
    "\n",
    "regr.score(X_test, y_test)"
   ]
  },
  {
   "cell_type": "code",
   "execution_count": 26,
   "metadata": {},
   "outputs": [],
   "source": [
    "class NeuralNetwork():\n",
    "\n",
    "    def __init__(self):\n",
    "        np.random.seed(1)\n",
    "        self.synpatic_weights = 2 * random.random((2,1)) - 1\n",
    "\n",
    "    def __softmax(self, Z):\n",
    "\t    expZ = np.exp(Z - np.max(Z))\n",
    "\t    return expZ / expZ.sum(axis=0, keepdims=True)\n",
    "\n",
    "    \n",
    "    def train(self, training_inputs, training_outputs, training_iterations):\n",
    "        for iteration in range(training_iterations):\n",
    "            output = self.think(training_inputs)\n",
    "            error = training_outputs - output\n",
    "            adjustments = 0.001*(dot(training_inputs.T, error * self.__softmax(output)))\n",
    "            self.synpatic_weights += adjustments\n",
    "\n",
    "    # The neural network thinks.\n",
    "    def think(self, inputs):\n",
    "        # Pass inputs through our neural network (our single neuron).\n",
    "        return (dot(inputs, self.synpatic_weights))\n",
    "\n",
    "    def predict(self, input):\n",
    "        input = log(input)\n",
    "        output = exp(self.think(input))[0]\n",
    "        output = '{:.2f}'.format(output)\n",
    "        return output"
   ]
  },
  {
   "cell_type": "code",
   "execution_count": 27,
   "metadata": {
    "tags": []
   },
   "outputs": [],
   "source": [
    "neural_network = NeuralNetwork()\n",
    "\n",
    "# Training the neural network using the training set.\n",
    "neural_network.train(data, labels, 35000)"
   ]
  },
  {
   "cell_type": "code",
   "execution_count": 28,
   "metadata": {
    "tags": []
   },
   "outputs": [
    {
     "output_type": "stream",
     "name": "stdout",
     "text": "5.99\n"
    }
   ],
   "source": [
    "# Ask the neural network the output\n",
    "print(neural_network.predict(array([3, 2])))"
   ]
  }
 ],
 "metadata": {
  "language_info": {
   "codemirror_mode": {
    "name": "ipython",
    "version": 3
   },
   "file_extension": ".py",
   "mimetype": "text/x-python",
   "name": "python",
   "nbconvert_exporter": "python",
   "pygments_lexer": "ipython3",
   "version": "3.7.6-final"
  },
  "orig_nbformat": 2,
  "kernelspec": {
   "name": "python37664bitbaseconda18efcd73aca0417b869319057f882f5b",
   "display_name": "Python 3.7.6 64-bit ('base': conda)"
  }
 },
 "nbformat": 4,
 "nbformat_minor": 2
}
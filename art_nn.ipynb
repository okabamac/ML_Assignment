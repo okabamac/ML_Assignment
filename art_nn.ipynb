{
 "cells": [
  {
   "cell_type": "code",
   "execution_count": 1591,
   "metadata": {},
   "outputs": [],
   "source": [
    "import numpy as np \n",
    "from numpy import exp, array, random, dot, log\n",
    "from scipy.special import softmax\n",
    "from itertools import combinations_with_replacement"
   ]
  },
  {
   "cell_type": "code",
   "execution_count": 1592,
   "metadata": {},
   "outputs": [],
   "source": [
    "\n",
    "# A Python program to print all combinations \n",
    "# with an element-to-itself combination is  \n",
    "# also included \n",
    "\n",
    "X = []\n",
    "# Get all combinations of [0, 1, 2, 3, 4, 5, 6, 7, 8, 9] and length 2 \n",
    "comb = combinations_with_replacement([0, 1, 2, 3, 4, 5, 6, 7, 8, 9], 2) \n",
    "  \n",
    "# Print the obtained combinations \n",
    "for i in list(comb):\n",
    "    datum = list(i)\n",
    "    X.append(datum)\n",
    "\n",
    "X = log(array(X))\n",
    "df = pd.DataFrame({'x': X[:, 0], 'y': X[:, 1], 'label': X[:, 0]+X[:, 1]})\n",
    "df = df[np.isfinite(df['label'])]"
   ]
  },
  {
   "cell_type": "code",
   "execution_count": 1593,
   "metadata": {},
   "outputs": [],
   "source": [
    "data = df.values[:, 0:2]\n",
    "labels = df.values[:, 2].reshape(-1, 1)"
   ]
  },
  {
   "cell_type": "code",
   "execution_count": 1628,
   "metadata": {},
   "outputs": [],
   "source": [
    "class NeuralNetwork():\n",
    "\n",
    "    def __init__(self):\n",
    "        np.random.seed(1)\n",
    "        self.synpatic_weights = 2 * random.random((2,1)) - 1\n",
    "    \n",
    "    # The Sigmoid function, which describes an S shaped curve.\n",
    "    # We pass the weighted sum of the inputs through this function to\n",
    "    # normalise them between 0 and 1.\n",
    "    def __sigmoid(self, x):\n",
    "        return 1 / (1 + exp(-x))\n",
    "\n",
    "    \n",
    "    def train(self, training_inputs, training_outputs, training_iterations):\n",
    "        for iteration in range(training_iterations):\n",
    "            output = self.think(training_inputs)\n",
    "            error = training_outputs - output\n",
    "            adjustments = 0.000001*(dot(training_inputs.T, error * self.__sigmoid(output)))\n",
    "            self.synpatic_weights += adjustments\n",
    "\n",
    "    # The neural network thinks.\n",
    "    def think(self, inputs):\n",
    "        # Pass inputs through our neural network (our single neuron).\n",
    "        return (dot(inputs, self.synpatic_weights))\n"
   ]
  },
  {
   "cell_type": "code",
   "execution_count": 1629,
   "metadata": {
    "tags": [
     "outputPrepend",
     "outputPrepend",
     "outputPrepend",
     "outputPrepend",
     "outputPrepend",
     "outputPrepend",
     "outputPrepend",
     "outputPrepend",
     "outputPrepend",
     "outputPrepend",
     "outputPrepend",
     "outputPrepend",
     "outputPrepend",
     "outputPrepend",
     "outputPrepend",
     "outputPrepend",
     "outputPrepend",
     "outputPrepend",
     "outputPrepend",
     "outputPrepend",
     "outputPrepend",
     "outputPrepend",
     "outputPrepend",
     "outputPrepend",
     "outputPrepend",
     "outputPrepend",
     "outputPrepend",
     "outputPrepend",
     "outputPrepend",
     "outputPrepend"
    ]
   },
   "outputs": [
    {
     "output_type": "stream",
     "name": "stdout",
     "text": "[2.35651209]\n"
    }
   ],
   "source": [
    "neural_network = NeuralNetwork()\n",
    "\n",
    "# Training the neural network using the training set.\n",
    "neural_network.train(data, labels, 1000)\n",
    "\n",
    "# Ask the neural network the output\n",
    "print(neural_network.think(array([6, 5])))"
   ]
  },
  {
   "cell_type": "code",
   "execution_count": null,
   "metadata": {},
   "outputs": [],
   "source": []
  }
 ],
 "metadata": {
  "language_info": {
   "codemirror_mode": {
    "name": "ipython",
    "version": 3
   },
   "file_extension": ".py",
   "mimetype": "text/x-python",
   "name": "python",
   "nbconvert_exporter": "python",
   "pygments_lexer": "ipython3",
   "version": "3.7.6-final"
  },
  "orig_nbformat": 2,
  "kernelspec": {
   "name": "python37664bitbaseconda18efcd73aca0417b869319057f882f5b",
   "display_name": "Python 3.7.6 64-bit ('base': conda)"
  }
 },
 "nbformat": 4,
 "nbformat_minor": 2
}